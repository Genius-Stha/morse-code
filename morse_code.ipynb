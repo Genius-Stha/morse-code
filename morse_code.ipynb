{
  "nbformat": 4,
  "nbformat_minor": 0,
  "metadata": {
    "colab": {
      "provenance": []
    },
    "kernelspec": {
      "name": "python3",
      "display_name": "Python 3"
    },
    "language_info": {
      "name": "python"
    }
  },
  "cells": [
    {
      "cell_type": "code",
      "source": [
        "morse_code = {\n",
        "    'a': '.-',\n",
        "    'b': '-...',\n",
        "    'c': '-.-.',\n",
        "    'd': '-..',\n",
        "    'e': '.',\n",
        "    'f': '..-.',\n",
        "    'g': '--.',\n",
        "    'h': '....',\n",
        "    'i': '..',\n",
        "    'j': '.---',\n",
        "    'k': '-.-',\n",
        "    'l': '.-..',\n",
        "    'm': '--',\n",
        "    'n': '-.',\n",
        "    'o': '---',\n",
        "    'p': '.--.',\n",
        "    'q': '--.-',\n",
        "    'r': '.-.',\n",
        "    's': '...',\n",
        "    't': '-',\n",
        "    'u': '..-',\n",
        "    'v': '...-',\n",
        "    'w': '.--',\n",
        "    'x': '-..-',\n",
        "    'y': '-.--',\n",
        "    'z': '--..',\n",
        "    ' ': '/',\n",
        "}"
      ],
      "metadata": {
        "id": "Lg3wVu-262Fa"
      },
      "execution_count": 12,
      "outputs": []
    },
    {
      "cell_type": "code",
      "source": [
        "input_text = 'hello how are you' #input('Enter your text to convert into morse code : ')\n",
        "text = input_text.lower()\n",
        "morse_text = ''\n",
        "for char in text:\n",
        "    if char in morse_code:\n",
        "        morse_text += morse_code[char] + ' '\n",
        "print(morse_text)"
      ],
      "metadata": {
        "colab": {
          "base_uri": "https://localhost:8080/"
        },
        "id": "yQJWHA3L7WD6",
        "outputId": "675bb853-e549-4cea-d37b-754814c0988a"
      },
      "execution_count": 13,
      "outputs": [
        {
          "output_type": "stream",
          "name": "stdout",
          "text": [
            ".... . .-.. .-.. --- / .... --- .-- / .- .-. . / -.-- --- ..- \n"
          ]
        }
      ]
    },
    {
      "cell_type": "code",
      "source": [
        "input_code = '.... . .-.. .-.. --- / ...'#input('Enter your morse code to convert into text : ')\n",
        "code = input_code.split()\n",
        "text = ''\n",
        "for char in code:\n",
        "    for key, value in morse_code.items():\n",
        "        if char == value:\n",
        "            text += key\n",
        "print(text)\n"
      ],
      "metadata": {
        "colab": {
          "base_uri": "https://localhost:8080/"
        },
        "id": "pj3zLRLj7t_6",
        "outputId": "63713872-18e5-45e9-f9d3-a7ca63cb1100"
      },
      "execution_count": 14,
      "outputs": [
        {
          "output_type": "stream",
          "name": "stdout",
          "text": [
            "hello s\n"
          ]
        }
      ]
    },
    {
      "cell_type": "code",
      "source": [
        "# !pip install soundfile\n",
        "\n",
        "import soundfile as sf\n",
        "\n",
        "filename = '/content/A_through_Z_in_Morse_code.ogg' # Replace with your actual filename\n",
        "\n",
        "try:\n",
        "    # Read the ogg file\n",
        "    data, samplerate = sf.read(filename)\n",
        "\n",
        "    # You can now work with the audio data (e.g., analyze, plot)\n",
        "    print(f\"Successfully read '{filename}'.\")\n",
        "    print(f\"Sample rate: {samplerate}\")\n",
        "    print(f\"Number of samples: {len(data)}\")\n",
        "\n",
        "except FileNotFoundError:\n",
        "    print(f\"Error: File '{filename}' not found.\")\n",
        "except Exception as e:\n",
        "    print(f\"An error occurred: {e}\")"
      ],
      "metadata": {
        "colab": {
          "base_uri": "https://localhost:8080/"
        },
        "id": "UWCvz1Mm77Be",
        "outputId": "85d20b36-6c75-4216-d096-1dc40d26043f"
      },
      "execution_count": 15,
      "outputs": [
        {
          "output_type": "stream",
          "name": "stdout",
          "text": [
            "Successfully read '/content/A_through_Z_in_Morse_code.ogg'.\n",
            "Sample rate: 44100\n",
            "Number of samples: 1790180\n"
          ]
        }
      ]
    },
    {
      "cell_type": "code",
      "source": [
        "import pandas as pd\n",
        "import numpy as np\n",
        "\n",
        "df = pd.DataFrame(data)\n",
        "df.plot()"
      ],
      "metadata": {
        "colab": {
          "base_uri": "https://localhost:8080/",
          "height": 466
        },
        "id": "1UqJ7kt_Bmy6",
        "outputId": "73ef0131-81b4-4173-8543-3a7d67eda0b0"
      },
      "execution_count": 16,
      "outputs": [
        {
          "output_type": "execute_result",
          "data": {
            "text/plain": [
              "<Axes: >"
            ]
          },
          "metadata": {},
          "execution_count": 16
        },
        {
          "output_type": "display_data",
          "data": {
            "text/plain": [
              "<Figure size 640x480 with 1 Axes>"
            ],
            "image/png": "[encoded data removed]"
          },
          "metadata": {}
        }
      ]
    },
    {
      "cell_type": "code",
      "source": [
        "df[int(0.2e6):int(0.25e6)].plot()"
      ],
      "metadata": {
        "colab": {
          "base_uri": "https://localhost:8080/",
          "height": 449
        },
        "id": "4vsDo2yLSDSV",
        "outputId": "5d617dcf-1fe4-4ade-b6c6-429074aa0197"
      },
      "execution_count": 17,
      "outputs": [
        {
          "output_type": "execute_result",
          "data": {
            "text/plain": [
              "<Axes: >"
            ]
          },
          "metadata": {},
          "execution_count": 17
        },
        {
          "output_type": "display_data",
          "data": {
            "text/plain": [
              "<Figure size 640x480 with 1 Axes>"
            ],
            "image/png": "[encoded data removed]"
          },
          "metadata": {}
        }
      ]
    },
    {
      "cell_type": "code",
      "source": [
        "import librosa.display\n",
        "import IPython.display as ipd\n"
      ],
      "metadata": {
        "id": "X_FBwfwlBvu9"
      },
      "execution_count": 18,
      "outputs": []
    },
    {
      "cell_type": "code",
      "source": [
        "df[0:int(0.2e6)].plot()"
      ],
      "metadata": {
        "colab": {
          "base_uri": "https://localhost:8080/",
          "height": 448
        },
        "id": "_Ylet7lxDIzJ",
        "outputId": "19a32af7-c480-4936-fee2-7ad5e5b387cc"
      },
      "execution_count": 19,
      "outputs": [
        {
          "output_type": "execute_result",
          "data": {
            "text/plain": [
              "<Axes: >"
            ]
          },
          "metadata": {},
          "execution_count": 19
        },
        {
          "output_type": "display_data",
          "data": {
            "text/plain": [
              "<Figure size 640x480 with 1 Axes>"
            ],
            "image/png": "[encoded data removed]"
          },
          "metadata": {}
        }
      ]
    },
    {
      "cell_type": "code",
      "source": [
        "df.value_counts()"
      ],
      "metadata": {
        "colab": {
          "base_uri": "https://localhost:8080/",
          "height": 490
        },
        "id": "GXJn4pA_56g7",
        "outputId": "b253d073-a65f-4d6a-c0c1-437c4c407974"
      },
      "execution_count": 22,
      "outputs": [
        {
          "output_type": "execute_result",
          "data": {
            "text/plain": [
              "0       \n",
              "0.000000    1012196\n",
              "0.894016         17\n",
              "0.742199         15\n",
              "0.588105         14\n",
              "0.912277         14\n",
              "             ...   \n",
              "0.927187          1\n",
              "0.927067          1\n",
              "0.926971          1\n",
              "0.926949          1\n",
              "0.926913          1\n",
              "Name: count, Length: 436579, dtype: int64"
            ],
            "text/html": [
              "<div>\n",
              "<style scoped>\n",
              "    .dataframe tbody tr th:only-of-type {\n",
              "        vertical-align: middle;\n",
              "    }\n",
              "\n",
              "    .dataframe tbody tr th {\n",
              "        vertical-align: top;\n",
              "    }\n",
              "\n",
              "    .dataframe thead th {\n",
              "        text-align: right;\n",
              "    }\n",
              "</style>\n",
              "<table border=\"1\" class=\"dataframe\">\n",
              "  <thead>\n",
              "    <tr style=\"text-align: right;\">\n",
              "      <th></th>\n",
              "      <th>count</th>\n",
              "    </tr>\n",
              "    <tr>\n",
              "      <th>0</th>\n",
              "      <th></th>\n",
              "    </tr>\n",
              "  </thead>\n",
              "  <tbody>\n",
              "    <tr>\n",
              "      <th>0.000000</th>\n",
              "      <td>1012196</td>\n",
              "    </tr>\n",
              "    <tr>\n",
              "      <th>0.894016</th>\n",
              "      <td>17</td>\n",
              "    </tr>\n",
              "    <tr>\n",
              "      <th>0.742199</th>\n",
              "      <td>15</td>\n",
              "    </tr>\n",
              "    <tr>\n",
              "      <th>0.588105</th>\n",
              "      <td>14</td>\n",
              "    </tr>\n",
              "    <tr>\n",
              "      <th>0.912277</th>\n",
              "      <td>14</td>\n",
              "    </tr>\n",
              "    <tr>\n",
              "      <th>...</th>\n",
              "      <td>...</td>\n",
              "    </tr>\n",
              "    <tr>\n",
              "      <th>0.927187</th>\n",
              "      <td>1</td>\n",
              "    </tr>\n",
              "    <tr>\n",
              "      <th>0.927067</th>\n",
              "      <td>1</td>\n",
              "    </tr>\n",
              "    <tr>\n",
              "      <th>0.926971</th>\n",
              "      <td>1</td>\n",
              "    </tr>\n",
              "    <tr>\n",
              "      <th>0.926949</th>\n",
              "      <td>1</td>\n",
              "    </tr>\n",
              "    <tr>\n",
              "      <th>0.926913</th>\n",
              "      <td>1</td>\n",
              "    </tr>\n",
              "  </tbody>\n",
              "</table>\n",
              "<p>436579 rows × 1 columns</p>\n",
              "</div><br><label><b>dtype:</b> int64</label>"
            ]
          },
          "metadata": {},
          "execution_count": 22
        }
      ]
    },
    {
      "cell_type": "code",
      "source": [
        "# Select the first column and apply the function\n",
        "df = df[0].apply(lambda x: 1 if x > 0 or x<0 else 0)"
      ],
      "metadata": {
        "id": "IieA0bURDP4C"
      },
      "execution_count": 23,
      "outputs": []
    },
    {
      "cell_type": "code",
      "source": [
        "df.value_counts()"
      ],
      "metadata": {
        "colab": {
          "base_uri": "https://localhost:8080/",
          "height": 178
        },
        "id": "brRxLhjxQufV",
        "outputId": "e3d671f4-0896-429e-b1a5-326a23a14fbf"
      },
      "execution_count": 24,
      "outputs": [
        {
          "output_type": "execute_result",
          "data": {
            "text/plain": [
              "0\n",
              "0    1012196\n",
              "1     777984\n",
              "Name: count, dtype: int64"
            ],
            "text/html": [
              "<div>\n",
              "<style scoped>\n",
              "    .dataframe tbody tr th:only-of-type {\n",
              "        vertical-align: middle;\n",
              "    }\n",
              "\n",
              "    .dataframe tbody tr th {\n",
              "        vertical-align: top;\n",
              "    }\n",
              "\n",
              "    .dataframe thead th {\n",
              "        text-align: right;\n",
              "    }\n",
              "</style>\n",
              "<table border=\"1\" class=\"dataframe\">\n",
              "  <thead>\n",
              "    <tr style=\"text-align: right;\">\n",
              "      <th></th>\n",
              "      <th>count</th>\n",
              "    </tr>\n",
              "    <tr>\n",
              "      <th>0</th>\n",
              "      <th></th>\n",
              "    </tr>\n",
              "  </thead>\n",
              "  <tbody>\n",
              "    <tr>\n",
              "      <th>0</th>\n",
              "      <td>1012196</td>\n",
              "    </tr>\n",
              "    <tr>\n",
              "      <th>1</th>\n",
              "      <td>777984</td>\n",
              "    </tr>\n",
              "  </tbody>\n",
              "</table>\n",
              "</div><br><label><b>dtype:</b> int64</label>"
            ]
          },
          "metadata": {},
          "execution_count": 24
        }
      ]
    },
    {
      "cell_type": "code",
      "source": [
        "df.plot()"
      ],
      "metadata": {
        "colab": {
          "base_uri": "https://localhost:8080/",
          "height": 465
        },
        "id": "w0_zwmBgRTs9",
        "outputId": "13a29b96-850f-4f85-92b7-00a353c671fe"
      },
      "execution_count": 25,
      "outputs": [
        {
          "output_type": "execute_result",
          "data": {
            "text/plain": [
              "<Axes: >"
            ]
          },
          "metadata": {},
          "execution_count": 25
        },
        {
          "output_type": "display_data",
          "data": {
            "text/plain": [
              "<Figure size 640x480 with 1 Axes>"
            ],
            "image/png": "[encoded data removed]"
          },
          "metadata": {}
        }
      ]
    },
    {
      "cell_type": "code",
      "source": [
        "df[int(0):int(0.15e6)].plot()"
      ],
      "metadata": {
        "colab": {
          "base_uri": "https://localhost:8080/",
          "height": 447
        },
        "id": "dqa8UB-uRYuC",
        "outputId": "1daafde2-84cc-483b-a192-029a47a0816b"
      },
      "execution_count": 26,
      "outputs": [
        {
          "output_type": "execute_result",
          "data": {
            "text/plain": [
              "<Axes: >"
            ]
          },
          "metadata": {},
          "execution_count": 26
        },
        {
          "output_type": "display_data",
          "data": {
            "text/plain": [
              "<Figure size 640x480 with 1 Axes>"
            ],
            "image/png": "[encoded data removed]"
          },
          "metadata": {}
        }
      ]
    },
    {
      "cell_type": "code",
      "source": [
        "# prompt: calculate zero threshold and one threshold\n",
        "\n",
        "import numpy as np\n",
        "# Find indices where the value changes from 0 to 1\n",
        "zero_to_one_indices = df.index[(df == 1) & (df.shift(1) == 0)]\n",
        "\n",
        "# Find indices where the value changes from 1 to 0\n",
        "one_to_zero_indices = df.index[(df == 0) & (df.shift(1) == 1)]\n",
        "\n",
        "print(\"Indices where value changes from 0 to 1:\", zero_to_one_indices)\n",
        "print(\"Indices where value changes from 1 to 0:\", one_to_zero_indices)\n",
        "\n",
        "# Calculate the duration of 1s and 0s\n",
        "one_durations = [one_to_zero_indices[i] - zero_to_one_indices[i] for i in range(min(len(zero_to_one_indices), len(one_to_zero_indices)))]\n",
        "\n",
        "# To get the durations of 0s, we need to consider the intervals between the ends of 1s and the beginnings of the next 1s.\n",
        "# We can pair up the one_to_zero_indices and zero_to_one_indices for this.\n",
        "zero_durations = []\n",
        "for i in range(min(len(one_to_zero_indices), len(zero_to_one_indices) - 1)):\n",
        "    zero_durations.append(zero_to_one_indices[i+1] - one_to_zero_indices[i])\n",
        "\n",
        "# Handle the case where the data starts with 1\n",
        "if df.iloc[0] == 1:\n",
        "    # The first duration of 1 is from the start to the first 1->0 transition\n",
        "    if len(one_to_zero_indices) > 0:\n",
        "        one_durations.insert(0, one_to_zero_indices[0] - df.index[0])\n",
        "    # The first duration of 0 starts after the first 1->0 transition\n",
        "    if len(one_to_zero_indices) > 0 and len(zero_to_one_indices) > 0:\n",
        "        zero_durations.insert(0, zero_to_one_indices[0] - one_to_zero_indices[0])\n",
        "\n",
        "\n",
        "# Handle the case where the data ends with 0\n",
        "if df.iloc[-1] == 0:\n",
        "    # The last duration of 0 is from the last 1->0 transition to the end\n",
        "    if len(one_to_zero_indices) > 0:\n",
        "        zero_durations.append(df.index[-1] - one_to_zero_indices[-1])\n",
        "    # The last duration of 1 ends at the last 1->0 transition\n",
        "    if len(one_to_zero_indices) > 0 and len(zero_to_one_indices) > 0:\n",
        "         pass # This case is handled by the list comprehension\n",
        "\n",
        "# Handle the case where the data ends with 1\n",
        "if df.iloc[-1] == 1:\n",
        "     # The last duration of 1 is from the last 0->1 transition to the end\n",
        "    if len(zero_to_one_indices) > 0:\n",
        "        one_durations.append(df.index[-1] - zero_to_one_indices[-1])\n",
        "     # The last duration of 0 ends at the last 0->1 transition\n",
        "    if len(one_to_zero_indices) > 0 and len(zero_to_one_indices) > 0:\n",
        "        pass # This case is handled by the list comprehension\n",
        "\n",
        "\n",
        "print(\"Durations of 1s:\", one_durations)\n",
        "print(\"Durations of 0s:\", zero_durations)\n",
        "\n",
        "# Calculate thresholds\n",
        "if one_durations:\n",
        "    one_threshold = np.mean(one_durations)\n",
        "    print(f\"Average duration of 1s (one_threshold): {one_threshold}\")\n",
        "else:\n",
        "    one_threshold = 0\n",
        "    print(\"No durations of 1s found.\")\n",
        "\n",
        "if zero_durations:\n",
        "    zero_threshold = np.mean(zero_durations)\n",
        "    print(f\"Average duration of 0s (zero_threshold): {zero_threshold}\")\n",
        "else:\n",
        "    zero_threshold = 0\n",
        "    print(\"No durations of 0s found.\")\n"
      ],
      "metadata": {
        "colab": {
          "base_uri": "https://localhost:8080/"
        },
        "id": "7LCDlT2ag6wb",
        "outputId": "45eba7db-1deb-4978-cfe9-972bb46a0027"
      },
      "execution_count": 27,
      "outputs": [
        {
          "output_type": "stream",
          "name": "stdout",
          "text": [
            "Indices where value changes from 0 to 1: Index([  43776,   52608,   96768,  114432,  123136,  131968,  167296,  184960,\n",
            "        193792,  211328,  246656,  264320,  273152,  307008,  343680,  352512,\n",
            "        361216,  378880,  414208,  431744,  449408,  484736,  493568,  502400,\n",
            "        511104,  546432,  555264,  589120,  599296,  616960,  634624,  677312,\n",
            "        696320,  705152,  747840,  758016,  775680,  784512,  819840,  837376,\n",
            "        881536,  899200,  933056,  952064,  969728, 1012416, 1022592, 1040256,\n",
            "       1057920, 1093248, 1110784, 1128448, 1137280, 1181440, 1190272, 1207808,\n",
            "       1243136, 1251968, 1260800, 1294656, 1340160, 1348992, 1357824, 1400512,\n",
            "       1410688, 1419520, 1428352, 1472512, 1481344, 1498880, 1543040, 1560576,\n",
            "       1569408, 1578240, 1622400, 1639936, 1648768, 1666432, 1710592, 1728128,\n",
            "       1745792, 1754624],\n",
            "      dtype='int64')\n",
            "Indices where value changes from 1 to 0: Index([  48768,   66688,  110720,  120064,  130496,  136960,  181376,  189952,\n",
            "        207872,  216320,  260736,  269312,  278144,  313344,  348672,  358144,\n",
            "        375296,  383872,  428160,  445824,  454400,  489728,  498560,  507264,\n",
            "        516096,  551424,  560256,  595456,  615744,  631040,  648704,  692736,\n",
            "        701312,  719104,  754176,  772096,  780672,  789504,  835264,  851456,\n",
            "        895616,  904192,  948352,  966016,  983808, 1018880, 1036672, 1054336,\n",
            "       1062912, 1107200, 1124864, 1133440, 1151360, 1186432, 1204352, 1212800,\n",
            "       1248128, 1259200, 1265792, 1310208, 1345152, 1353984, 1371776, 1406848,\n",
            "       1415680, 1424512, 1442304, 1477504, 1495296, 1512832, 1557120, 1567936,\n",
            "       1574400, 1592192, 1636480, 1647296, 1662720, 1680384, 1724416, 1742208,\n",
            "       1750784, 1759616],\n",
            "      dtype='int64')\n",
            "Durations of 1s: [np.int64(4992), np.int64(14080), np.int64(13952), np.int64(5632), np.int64(7360), np.int64(4992), np.int64(14080), np.int64(4992), np.int64(14080), np.int64(4992), np.int64(14080), np.int64(4992), np.int64(4992), np.int64(6336), np.int64(4992), np.int64(5632), np.int64(14080), np.int64(4992), np.int64(13952), np.int64(14080), np.int64(4992), np.int64(4992), np.int64(4992), np.int64(4864), np.int64(4992), np.int64(4992), np.int64(4992), np.int64(6336), np.int64(16448), np.int64(14080), np.int64(14080), np.int64(15424), np.int64(4992), np.int64(13952), np.int64(6336), np.int64(14080), np.int64(4992), np.int64(4992), np.int64(15424), np.int64(14080), np.int64(14080), np.int64(4992), np.int64(15296), np.int64(13952), np.int64(14080), np.int64(6464), np.int64(14080), np.int64(14080), np.int64(4992), np.int64(13952), np.int64(14080), np.int64(4992), np.int64(14080), np.int64(4992), np.int64(14080), np.int64(4992), np.int64(4992), np.int64(7232), np.int64(4992), np.int64(15552), np.int64(4992), np.int64(4992), np.int64(13952), np.int64(6336), np.int64(4992), np.int64(4992), np.int64(13952), np.int64(4992), np.int64(13952), np.int64(13952), np.int64(14080), np.int64(7360), np.int64(4992), np.int64(13952), np.int64(14080), np.int64(7360), np.int64(13952), np.int64(13952), np.int64(13824), np.int64(14080), np.int64(4992), np.int64(4992)]\n",
            "Durations of 0s: [np.int64(3840), np.int64(30080), np.int64(3712), np.int64(3072), np.int64(1472), np.int64(30336), np.int64(3584), np.int64(3840), np.int64(3456), np.int64(30336), np.int64(3584), np.int64(3840), np.int64(28864), np.int64(30336), np.int64(3840), np.int64(3072), np.int64(3584), np.int64(30336), np.int64(3584), np.int64(3584), np.int64(30336), np.int64(3840), np.int64(3840), np.int64(3840), np.int64(30336), np.int64(3840), np.int64(28864), np.int64(3840), np.int64(1216), np.int64(3584), np.int64(28608), np.int64(3584), np.int64(3840), np.int64(28736), np.int64(3840), np.int64(3584), np.int64(3840), np.int64(30336), np.int64(2112), np.int64(30080), np.int64(3584), np.int64(28864), np.int64(3712), np.int64(3712), np.int64(28608), np.int64(3712), np.int64(3584), np.int64(3584), np.int64(30336), np.int64(3584), np.int64(3584), np.int64(3840), np.int64(30080), np.int64(3840), np.int64(3456), np.int64(30336), np.int64(3840), np.int64(1600), np.int64(28864), np.int64(29952), np.int64(3840), np.int64(3840), np.int64(28736), np.int64(3840), np.int64(3840), np.int64(3840), np.int64(30208), np.int64(3840), np.int64(3584), np.int64(30208), np.int64(3456), np.int64(1472), np.int64(3840), np.int64(30208), np.int64(3456), np.int64(1472), np.int64(3712), np.int64(30208), np.int64(3712), np.int64(3584), np.int64(3840), np.int64(30563)]\n",
            "Average duration of 1s (one_threshold): 9487.609756097561\n",
            "Average duration of 0s (zero_threshold): 11809.987804878048\n"
          ]
        }
      ]
    },
    {
      "cell_type": "code",
      "source": [
        "def compress_series(series, zero_threshold=zero_threshold, one_threshold=one_threshold):\n",
        "\n",
        "  compressed_string = ''\n",
        "  current_char = None\n",
        "  current_count = 0\n",
        "\n",
        "  for value in series:\n",
        "    if value != current_char:\n",
        "      if current_char is not None:\n",
        "        if current_char == 0:\n",
        "          compressed_string += ' / ' if current_count > zero_threshold else ''\n",
        "        else: # current_char == 1\n",
        "          compressed_string += '-' if current_count >= one_threshold else '.'\n",
        "      current_char = value\n",
        "      current_count = 1\n",
        "    else:\n",
        "      current_count += 1\n",
        "\n",
        "  # Handle the last sequence\n",
        "  if current_char is not None:\n",
        "    if current_char == 0:\n",
        "      compressed_string += ' / ' if current_count > zero_threshold else ''\n",
        "    else: # current_char == 1\n",
        "      compressed_string += '-' if current_count >= one_threshold else '.'\n",
        "\n",
        "  return compressed_string\n",
        "\n",
        "# Apply the function to your DataFrame column (assuming your data is in the first column)\n",
        "# You might need to adjust the column index if your DataFrame has multiple columns\n",
        "compressed_representation = compress_series(df)\n",
        "compressed_representation\n"
      ],
      "metadata": {
        "colab": {
          "base_uri": "https://localhost:8080/",
          "height": 52
        },
        "id": "f8BMSNICXjCL",
        "outputId": "7b503e75-9427-4506-f802-bdc18c100618"
      },
      "execution_count": 28,
      "outputs": [
        {
          "output_type": "execute_result",
          "data": {
            "text/plain": [
              "' / .- / -... / -.-. / -.. / . / ..-. / --. / .... / .. / .--- / -.- / .-.. / -- / -. / --- / .--. / --.- / .-. / ... / - / ..- / ...- / .-- / -..- / -.-- / --.. / '"
            ],
            "application/vnd.google.colaboratory.intrinsic+json": {
              "type": "string"
            }
          },
          "metadata": {},
          "execution_count": 28
        }
      ]
    },
    {
      "cell_type": "code",
      "source": [
        "input_code = compressed_representation\n",
        "code = input_code.split()\n",
        "text = ''\n",
        "for char in code:\n",
        "    for key, value in morse_code.items():\n",
        "        if char == value:\n",
        "            text += key\n",
        "print(text)\n"
      ],
      "metadata": {
        "colab": {
          "base_uri": "https://localhost:8080/"
        },
        "id": "Svkbt_YDZN3v",
        "outputId": "faf89672-2840-4de5-8f2d-e1144bef4f41"
      },
      "execution_count": 29,
      "outputs": [
        {
          "output_type": "stream",
          "name": "stdout",
          "text": [
            " a b c d e f g h i j k l m n o p q r s t u v w x y z \n"
          ]
        }
      ]
    },
    {
      "cell_type": "code",
      "source": [],
      "metadata": {
        "id": "VWQj9r2Co_sx"
      },
      "execution_count": null,
      "outputs": []
    }
  ]
}