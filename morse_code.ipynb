{
  "nbformat": 4,
  "nbformat_minor": 0,
  "metadata": {
    "colab": {
      "provenance": []
    },
    "kernelspec": {
      "name": "python3",
      "display_name": "Python 3"
    },
    "language_info": {
      "name": "python"
    }
  },
  "cells": [
    {
      "cell_type": "code",
      "source": [
        "morse_code = {\n",
        "    'a': '.-',\n",
        "    'b': '-...',\n",
        "    'c': '-.-.',\n",
        "    'd': '-..',\n",
        "    'e': '.',\n",
        "    'f': '..-.',\n",
        "    'g': '--.',\n",
        "    'h': '....',\n",
        "    'i': '..',\n",
        "    'j': '.---',\n",
        "    'k': '-.-',\n",
        "    'l': '.-..',\n",
        "    'm': '--',\n",
        "    'n': '-.',\n",
        "    'o': '---',\n",
        "    'p': '.--.',\n",
        "    'q': '--.-',\n",
        "    'r': '.-.',\n",
        "    's': '...',\n",
        "    't': '-',\n",
        "    'u': '..-',\n",
        "    'v': '...-',\n",
        "    'w': '.--',\n",
        "    'x': '-..-',\n",
        "    'y': '-.--',\n",
        "    'z': '--..',\n",
        "    ' ': '/'\n",
        "}"
      ],
      "metadata": {
        "id": "Lg3wVu-262Fa"
      },
      "execution_count": 38,
      "outputs": []
    },
    {
      "cell_type": "code",
      "source": [
        "input_text = input('Enter your text to convert into morse code : ')\n",
        "text = input_text.lower()\n",
        "morse_text = ''\n",
        "for char in text:\n",
        "    if char in morse_code:\n",
        "        morse_text += morse_code[char] + ' '\n",
        "print(morse_text)"
      ],
      "metadata": {
        "colab": {
          "base_uri": "https://localhost:8080/"
        },
        "id": "yQJWHA3L7WD6",
        "outputId": "36f941b6-28c1-4f4f-b040-cdf184a122f0"
      },
      "execution_count": 40,
      "outputs": [
        {
          "output_type": "stream",
          "name": "stdout",
          "text": [
            "Enter your text to convert into morse code : hello\n",
            ".... . .-.. .-.. --- \n"
          ]
        }
      ]
    },
    {
      "cell_type": "code",
      "source": [
        "input_code = input('Enter your morse code to convert into text : ')\n",
        "code = input_code.split()\n",
        "text = ''\n",
        "for char in code:\n",
        "    for key, value in morse_code.items():\n",
        "        if char == value:\n",
        "            text += key\n",
        "print(text)\n"
      ],
      "metadata": {
        "colab": {
          "base_uri": "https://localhost:8080/"
        },
        "id": "pj3zLRLj7t_6",
        "outputId": "8929ece1-6935-40e7-be05-76b63126beeb"
      },
      "execution_count": 41,
      "outputs": [
        {
          "output_type": "stream",
          "name": "stdout",
          "text": [
            "Enter your morse code to convert into text : .... . .-.. .-.. ---\n",
            "hello\n"
          ]
        }
      ]
    },
    {
      "cell_type": "code",
      "source": [],
      "metadata": {
        "id": "UWCvz1Mm77Be"
      },
      "execution_count": null,
      "outputs": []
    }
  ]
}